{
  "nbformat": 4,
  "nbformat_minor": 0,
  "metadata": {
    "colab": {
      "name": "Hackathon Final",
      "provenance": [],
      "collapsed_sections": []
    },
    "kernelspec": {
      "name": "python3",
      "display_name": "Python 3"
    },
    "language_info": {
      "name": "python"
    },
    "accelerator": "GPU"
  },
  "cells": [
    {
      "cell_type": "markdown",
      "metadata": {
        "id": "LXDaEOR32u3u"
      },
      "source": [
        "The code should run as given"
      ]
    },
    {
      "cell_type": "code",
      "metadata": {
        "id": "497imE3oA396"
      },
      "source": [
        "%matplotlib inline\n",
        "\n",
        "import torch\n",
        "from torchvision import datasets, transforms, models\n",
        "from torch.utils.data.sampler import SubsetRandomSampler\n",
        "\n",
        "import random\n",
        "import numpy as np\n",
        "import matplotlib.pyplot as plt\n",
        "import helper\n",
        "from fastai.vision import *\n",
        "from fastai.metrics import error_rate\n",
        "from pathlib import Path\n",
        "from glob2 import glob\n",
        "from sklearn.metrics import confusion_matrix\n",
        "\n",
        "import pandas as pd\n",
        "import numpy as np\n",
        "import os\n",
        "import zipfile as zf\n",
        "import shutil\n",
        "import re\n",
        "import seaborn as sns\n",
        "test =123"
      ],
      "execution_count": 15,
      "outputs": []
    },
    {
      "cell_type": "code",
      "metadata": {
        "id": "SMiOIlPyiVmP"
      },
      "source": [
        "def set_seed(n):\n",
        "    torch.backends.cudnn.deterministic = True\n",
        "    random.seed(n)\n",
        "    torch.manual_seed(n)\n",
        "    torch.cuda.manual_seed(n)\n",
        "    np.random.seed(n)\n",
        "\n",
        "set_seed(1)"
      ],
      "execution_count": 7,
      "outputs": []
    },
    {
      "cell_type": "code",
      "metadata": {
        "id": "baAq3PWZMam8",
        "colab": {
          "base_uri": "https://localhost:8080/"
        },
        "outputId": "c6dd6c99-3d26-4a10-879a-2d0c0af643c6"
      },
      "source": [
        "device = torch.device('cuda') if torch.cuda.is_available() else torch.device('cpu')\n",
        "print(device)"
      ],
      "execution_count": 8,
      "outputs": [
        {
          "output_type": "stream",
          "text": [
            "cuda\n"
          ],
          "name": "stdout"
        }
      ]
    },
    {
      "cell_type": "markdown",
      "metadata": {
        "id": "fvQ3cVBR23yy"
      },
      "source": [
        "### Load data from our repo"
      ]
    },
    {
      "cell_type": "code",
      "metadata": {
        "colab": {
          "base_uri": "https://localhost:8080/"
        },
        "id": "oAiGqjKhagfk",
        "outputId": "640e1a85-ec53-447a-fdb8-c2aaeaa7d950"
      },
      "source": [
        "!git clone https://github.com/s-n-naik/Athena_Hack_2021.git"
      ],
      "execution_count": 9,
      "outputs": [
        {
          "output_type": "stream",
          "text": [
            "Cloning into 'Athena_Hack_2021'...\n",
            "remote: Enumerating objects: 1275, done.\u001b[K\n",
            "remote: Counting objects: 100% (145/145), done.\u001b[K\n",
            "remote: Compressing objects: 100% (90/90), done.\u001b[K\n",
            "remote: Total 1275 (delta 92), reused 107 (delta 55), pack-reused 1130\u001b[K\n",
            "Receiving objects: 100% (1275/1275), 1.16 GiB | 46.61 MiB/s, done.\n",
            "Resolving deltas: 100% (155/155), done.\n",
            "Checking out files: 100% (1005/1005), done.\n"
          ],
          "name": "stdout"
        }
      ]
    },
    {
      "cell_type": "code",
      "metadata": {
        "id": "7Ch3vkvSUJbB"
      },
      "source": [
        "transform = transforms.Compose([\n",
        "     transforms.Resize(100),\n",
        "     transforms.CenterCrop(100),                                             \n",
        "     transforms.ToTensor(),\n",
        "     #transforms.Normalize(mean=(0.5, 0.5, 0.5), std=(0.5, 0.5, 0.5),),                        \n",
        "])\n",
        "\n",
        "NUM_TRAIN = 700\n",
        "NUM_VAL = 100\n",
        "\n",
        "# classes: carboard, glass, metal, paper, plastic, trash\n",
        "# 2527 samples\n",
        "# NOTE: if we want separate transforms for train & test (which we prob do),\n",
        "#       we'll have to do this differently\n",
        "dataset= datasets.ImageFolder('Athena_Hack_2021/image_classifier', transform=transform)\n",
        "\n",
        "dataloader_train = torch.utils.data.DataLoader(dataset, batch_size=32, sampler=SubsetRandomSampler(range(0, NUM_TRAIN)))\n",
        "dataloader_val = torch.utils.data.DataLoader(dataset, batch_size=100, sampler=SubsetRandomSampler(range(NUM_TRAIN, NUM_TRAIN+NUM_VAL)))\n",
        "dataloader_test = torch.utils.data.DataLoader(dataset, batch_size=32, sampler=SubsetRandomSampler(range(NUM_TRAIN+NUM_VAL, len(dataset))))\n",
        "dataloader_image = torch.utils.data.DataLoader(dataset, batch_size=1, sampler=SubsetRandomSampler(range(NUM_TRAIN+NUM_VAL, len(dataset))))"
      ],
      "execution_count": 27,
      "outputs": []
    },
    {
      "cell_type": "code",
      "metadata": {
        "id": "663NdiDap3YA"
      },
      "source": [
        ""
      ],
      "execution_count": null,
      "outputs": []
    },
    {
      "cell_type": "markdown",
      "metadata": {
        "id": "NAbGmNcX3CdZ"
      },
      "source": [
        "### Model and training"
      ]
    },
    {
      "cell_type": "code",
      "metadata": {
        "id": "g13uLNjwCN4J"
      },
      "source": [
        "\n",
        "import logging\n",
        "\n",
        "import torch\n",
        "import torch.nn as nn\n",
        "import torch.nn.functional as F\n",
        "import torchvision\n",
        "\n",
        "logger = logging.getLogger()\n",
        "\n",
        "class SimpleClassifier_1_hidden_layer(nn.Module):\n",
        "    \"\"\"\n",
        "     Fully connected NN binary classifier with 1 hidden layer  \n",
        "        :param input_features:\n",
        "        :param output_features:\n",
        "        :return: NN object\n",
        "    \"\"\"\n",
        "    def __init__(self, img_size, output_features=1, n_hidden=100, channels=3):\n",
        "        super().__init__()\n",
        "        self.input_features = channels * img_size * img_size\n",
        "        self.output_features = output_features\n",
        "        self.linear1 = nn.Linear(\n",
        "            in_features=self.input_features, out_features=n_hidden, bias=True\n",
        "        )\n",
        "        self.linear2 = nn.Linear(\n",
        "            in_features=n_hidden, out_features=output_features, bias=True \n",
        "        )\n",
        "\n",
        "    def forward(self, inputs):\n",
        "        h = self.linear1(inputs.view(-1, self.input_features)) \n",
        "        h = F.relu(h)\n",
        "        h = self.linear2(h)\n",
        "        return torch.sigmoid(h)\n",
        "\n",
        "\n",
        "class ResNet_Classifier(nn.Module):\n",
        "    def __init__(self, output_features=1, use_pretrained=True):\n",
        "        \"\"\" Resnet-38 binary classifier class pre-trained on ImageNet dataset.\n",
        "        \"\"\"\n",
        "        super().__init__()\n",
        "        self.model = torchvision.models.resnet34(pretrained=use_pretrained)\n",
        "        # in feature extraction mode, we set the requires_grad = False for all params\n",
        "        num_ftrs = self.model.fc.in_features\n",
        "        # then we create a new linear layer\n",
        "        # params of this layer will automatically have the requires_grad attribute set to True\n",
        "        self.model.fc = nn.Linear(num_ftrs, output_features)\n",
        "        self.input_size = 100\n",
        "\n",
        "    def forward(self, inputs):\n",
        "        h = self.model(inputs)\n",
        "        return torch.sigmoid(h)\n",
        "\n",
        "\n",
        "def train(model, train_loader, optimizer, no_epochs, device, log_interval=10, weighted_loss = False,\n",
        "          class_proportions=None):\n",
        "    \"\"\"\n",
        "    A utility function that performs a basic training loop.\n",
        "\n",
        "    For each batch in the training set, fetched using `train_loader`:\n",
        "        - Zeroes the gradient used by `optimizer`\n",
        "        - Performs forward pass through `model` on the given batch\n",
        "        - Computes loss on batch\n",
        "        - Performs backward pass\n",
        "        - `optimizer` updates model parameters using computed gradient\n",
        "    \"\"\"\n",
        "\n",
        "    model.train()\n",
        "    if weighted_loss:\n",
        "        assert class_proportions is not None, \"Must provide class_weights dict to use weighted loss\"\n",
        "        logger.info(f\"Training with weighted loss function\")\n",
        "\n",
        "    for epoch in range(no_epochs):\n",
        "        total_loss= 0\n",
        "        for batch_idx, (inputs, targets) in enumerate(train_loader):\n",
        "            inputs = inputs.to(device)\n",
        "            targets = targets.float().to(device)\n",
        "            if weighted_loss:\n",
        "                weights = targets.detach().clone()\n",
        "                # counts is a tuple (tensor of classes, tensor of corresponding counts)\n",
        "                counts = weights.unique(return_counts=True)\n",
        "                # https://pytorch.org/docs/stable/generated/torch.nn.CrossEntropyLoss.html#torch.nn.CrossEntropyLoss\n",
        "                # weights for F.binary_cross_entropy needs to be the same shape as targets with the correct weight per entry\n",
        "\n",
        "                for idx in range(len(counts[0])):\n",
        "                    idx = int(idx)\n",
        "                    target = int(counts[0][idx].item())\n",
        "                    if target == 1:\n",
        "                        class_weight = 1/ class_proportions[\"yes_red_car\"]\n",
        "                    elif target == 0:\n",
        "                        class_weight = 1/ class_proportions[\"no_red_car\"]\n",
        "                    # go through the classes in the batch\n",
        "                    # for values in the target tensor which have class 0/1, replace with inverse proportion for that class\n",
        "                    weights[weights == counts[0][idx]] = class_weight\n",
        "\n",
        "            else:\n",
        "                weights = None\n",
        "\n",
        "\n",
        "            optimizer.zero_grad()\n",
        "\n",
        "            outputs = model(inputs).float()\n",
        "\n",
        "            # reduction = mean gives weighted average loss if weights are used\n",
        "            loss = F.binary_cross_entropy(outputs.squeeze(-1), targets, weight=weights, reduction=\"mean\")\n",
        "            total_loss +=loss\n",
        "            \n",
        "  \n",
        "            loss.backward()\n",
        "\n",
        "            optimizer.step()\n",
        "        print('====> Epoch: {} Average loss: {:.4f}'.format(epoch, total_loss / len(train_loader.dataset)))\n",
        "\n",
        "\n",
        "def validate(model, val_loader, device):\n",
        "    \"\"\"\n",
        "    A utility function to compute the loss and accuracy on a test set by\n",
        "    iterating through the test set using the provided `test_loader` and\n",
        "    accumulating the loss and accuracy on each batch.\n",
        "    return: accuracy of model on validation dataset\n",
        "    \"\"\"\n",
        "    correct = 0\n",
        "    denominator = 0\n",
        "    model.eval()\n",
        "    with torch.no_grad(): \n",
        "        for inputs, targets in val_loader:\n",
        "            denominator += len(targets)\n",
        "            inputs = inputs.to(device)\n",
        "            targets = targets.to(device)\n",
        "            outputs = model(inputs).squeeze(-1)\n",
        "            pred = outputs>0.5\n",
        "            pred = pred.long()\n",
        "            correct += pred.eq(targets.view_as(pred)).sum().item()\n",
        "\n",
        "    accuracy = correct / denominator\n",
        "    #print(accuracy)\n",
        "    return accuracy\n",
        "\n",
        "\n"
      ],
      "execution_count": 39,
      "outputs": []
    },
    {
      "cell_type": "code",
      "metadata": {
        "colab": {
          "base_uri": "https://localhost:8080/"
        },
        "id": "9qBU2iuhClg_",
        "outputId": "f0a5e5ce-61ea-4d70-8df5-429f279cdc8c"
      },
      "source": [
        "# 10 epochs = 20 mins\n",
        "model = SimpleClassifier_1_hidden_layer(100)\n",
        "model = model.to(device)\n",
        "learning_rate = 5.13e-03\n",
        "optimizer = torch.optim.Adam(model_cls.parameters(), lr=learning_rate)\n",
        "train(model, dataloader_train, optimizer, 10, 'cuda')"
      ],
      "execution_count": 41,
      "outputs": [
        {
          "output_type": "stream",
          "text": [
            "====> Epoch: 0 Average loss: 0.0161\n",
            "====> Epoch: 1 Average loss: 0.0161\n",
            "====> Epoch: 2 Average loss: 0.0161\n",
            "====> Epoch: 3 Average loss: 0.0161\n",
            "====> Epoch: 4 Average loss: 0.0161\n",
            "====> Epoch: 5 Average loss: 0.0161\n",
            "====> Epoch: 6 Average loss: 0.0161\n",
            "====> Epoch: 7 Average loss: 0.0161\n",
            "====> Epoch: 8 Average loss: 0.0161\n",
            "====> Epoch: 9 Average loss: 0.0161\n"
          ],
          "name": "stdout"
        }
      ]
    },
    {
      "cell_type": "code",
      "metadata": {
        "id": "WQ5ICr7lI08-"
      },
      "source": [
        ""
      ],
      "execution_count": 38,
      "outputs": []
    },
    {
      "cell_type": "code",
      "metadata": {
        "id": "pJHQNQGgJaPT"
      },
      "source": [
        "with torch.no_grad():\n",
        "  torch.save(model.state_dict(), 'model_weights12.pth')\n",
        "  #torch.jit.save(torch.jit.trace(model, (data), check_trace=False),\n",
        "  #   '/content/drive/MyDrive/model1.pth')"
      ],
      "execution_count": 43,
      "outputs": []
    },
    {
      "cell_type": "code",
      "metadata": {
        "colab": {
          "base_uri": "https://localhost:8080/",
          "height": 285
        },
        "id": "FpoWL3GyXo03",
        "outputId": "9eb20ed8-2ec8-48be-d31d-02743b1dfd33"
      },
      "source": [
        "import matplotlib.pyplot as plt\n",
        "import numpy as np\n",
        "import torchvision\n",
        "\n",
        "# functions to show an image\n",
        "\n",
        "\n",
        "def imshow(img):\n",
        "    img = img / 2 + 0.5     # unnormalize\n",
        "    npimg = img.numpy()\n",
        "    plt.imshow(np.transpose(npimg, (1, 2, 0)))\n",
        "    plt.show()\n",
        "\n",
        "dataiter = iter(dataloader_image)\n",
        "images, labels = dataiter.next()\n",
        "classes = ('glass', 'plastic')\n",
        "\n",
        "# print images\n",
        "imshow(torchvision.utils.make_grid(images))\n",
        "print('Prediction: ', ' '.join('%5s' % classes[labels[j]] for j in range(1)))"
      ],
      "execution_count": 38,
      "outputs": [
        {
          "output_type": "display_data",
          "data": {
            "image/png": "[encoded data removed]",
            "text/plain": [
              "<Figure size 432x288 with 1 Axes>"
            ]
          },
          "metadata": {
            "tags": [],
            "needs_background": "light"
          }
        },
        {
          "output_type": "stream",
          "text": [
            "Prediction:  plastic\n"
          ],
          "name": "stdout"
        }
      ]
    },
    {
      "cell_type": "code",
      "metadata": {
        "id": "kjJRO2c3Vd1I"
      },
      "source": [
        "data = next(iter(dataloader_test))"
      ],
      "execution_count": 32,
      "outputs": []
    },
    {
      "cell_type": "code",
      "metadata": {
        "colab": {
          "base_uri": "https://localhost:8080/"
        },
        "id": "jQstBhzXWOt7",
        "outputId": "1b5c151a-76ac-45f7-9e12-3b5a87266991"
      },
      "source": [
        "data[0].shape, data[1].shape"
      ],
      "execution_count": 50,
      "outputs": [
        {
          "output_type": "execute_result",
          "data": {
            "text/plain": [
              "(torch.Size([32, 3, 100, 100]), torch.Size([32]))"
            ]
          },
          "metadata": {
            "tags": []
          },
          "execution_count": 50
        }
      ]
    },
    {
      "cell_type": "code",
      "metadata": {
        "colab": {
          "base_uri": "https://localhost:8080/"
        },
        "id": "ZZBh6id1Wc14",
        "outputId": "ddfa2d6c-f38c-40da-c27d-b5db9bb5fa71"
      },
      "source": [
        "example = data[0][0,:,:,:].to(device)\n",
        "#plt.imshow(example)\n",
        "with torch.no_grad():\n",
        "  c = model(example)\n"
      ],
      "execution_count": 55,
      "outputs": [
        {
          "output_type": "execute_result",
          "data": {
            "text/plain": [
              "tensor([[0.5298]], device='cuda:0')"
            ]
          },
          "metadata": {
            "tags": []
          },
          "execution_count": 55
        }
      ]
    },
    {
      "cell_type": "code",
      "metadata": {
        "colab": {
          "base_uri": "https://localhost:8080/"
        },
        "id": "dvF4RCVmJ5Ep",
        "outputId": "16ef250b-056c-48b3-fca5-717bd287794e"
      },
      "source": [
        "model.load_state_dict(torch.load('model_weights12.pth'))\n",
        "model.eval()"
      ],
      "execution_count": 44,
      "outputs": [
        {
          "output_type": "execute_result",
          "data": {
            "text/plain": [
              "SimpleClassifier_1_hidden_layer(\n",
              "  (linear1): Linear(in_features=30000, out_features=100, bias=True)\n",
              "  (linear2): Linear(in_features=100, out_features=1, bias=True)\n",
              ")"
            ]
          },
          "metadata": {
            "tags": []
          },
          "execution_count": 44
        }
      ]
    },
    {
      "cell_type": "markdown",
      "metadata": {
        "id": "Nf-BDk7g2tM3"
      },
      "source": [
        ""
      ]
    }
  ]
}